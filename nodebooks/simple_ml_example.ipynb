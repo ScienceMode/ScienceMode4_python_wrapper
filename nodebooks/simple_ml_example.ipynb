{
 "cells": [
  {
   "cell_type": "code",
   "execution_count": 1,
   "metadata": {},
   "outputs": [],
   "source": [
    "# Imports the cffi wrapper for the sciencemode library\n",
    "from sciencemode import sciencemode\n",
    "import time"
   ]
  },
  {
   "cell_type": "markdown",
   "metadata": {},
   "source": [
    "## Creating same basic variables for the sciencemode library"
   ]
  },
  {
   "cell_type": "code",
   "execution_count": 27,
   "metadata": {},
   "outputs": [],
   "source": [
    "ack = sciencemode.ffi.new(\"Smpt_ack*\")\n",
    "device = sciencemode.ffi.new(\"Smpt_device*\")\n",
    "extended_version_ack = sciencemode.ffi.new(\"Smpt_get_extended_version_ack*\")\n",
    "ml_init = sciencemode.ffi.new(\"Smpt_ml_init*\")\n",
    "ml_update = sciencemode.ffi.new(\"Smpt_ml_update*\")\n",
    "ml_get_current_data = sciencemode.ffi.new(\"Smpt_ml_get_current_data*\")\n",
    "ml_get_current_data_ack = sciencemode.ffi.new(\"Smpt_ml_get_current_data_ack*\")"
   ]
  },
  {
   "cell_type": "markdown",
   "metadata": {},
   "source": [
    "## Identifying and Opening the P24 com port "
   ]
  },
  {
   "cell_type": "code",
   "execution_count": 47,
   "metadata": {},
   "outputs": [
    {
     "name": "stdout",
     "output_type": "stream",
     "text": [
      "Port port COM6 exists\n",
      "Port port COM7 exists\n",
      "Port port COM10 exists\n",
      "Found and opened a stimulator at COM10\n",
      "Firware 1.0.0\n",
      "SMPT 4.0.0\n"
     ]
    }
   ],
   "source": [
    "found_p24 = False\n",
    "\n",
    "for i in range(15):\n",
    "    if found_p24:\n",
    "        continue\n",
    "    com_str = \"COM%d\" % (i + 1)\n",
    "    com = sciencemode.ffi.new(\"char[]\", com_str.encode(\"ascii\"))\n",
    "    ret = sciencemode.smpt_check_serial_port(com)\n",
    "    if (ret):\n",
    "        print(\"Port port %s exists\" % com_str)\n",
    "        ret = sciencemode.smpt_open_serial_port(device,com)\n",
    "        if not ret:\n",
    "            ret = sciencemode.smpt_close_serial_port(device)\n",
    "            continue\n",
    "        ret = sciencemode.smpt_send_get_extended_version(device, 0)\n",
    "        if not ret:\n",
    "            ret = sciencemode.smpt_close_serial_port(device)\n",
    "            continue\n",
    "        cnt = 0\n",
    "        while ( not sciencemode.smpt_new_packet_received(device) and cnt < 3):\n",
    "            time.sleep(1)\n",
    "        if cnt == 3:\n",
    "            ret = sciencemode.smpt_close_serial_port(device)\n",
    "            continue\n",
    "        sciencemode.smpt_last_ack(device, ack);\n",
    "        if ack.command_number != sciencemode.Smpt_Cmd_Get_Extended_Version_Ack:\n",
    "            ret = sciencemode.smpt_close_serial_port(device)\n",
    "            continue\n",
    "        else:\n",
    "            found_p24 = True\n",
    "            ret = sciencemode.smpt_get_get_extended_version_ack(device, extended_version_ack)\n",
    "if found_p24:\n",
    "    print(\"Found and opened a stimulator at %s\" % com_str)\n",
    "    print(\"Firmware %d.%d.%d\" % (extended_version_ack.uc_version.fw_version.major, extended_version_ack.uc_version.fw_version.minor, extended_version_ack.uc_version.fw_version.revision))\n",
    "    print(\"SMPT %d.%d.%d\" % (extended_version_ack.uc_version.smpt_version.major, extended_version_ack.uc_version.smpt_version.minor, extended_version_ack.uc_version.smpt_version.revision))\n",
    "    "
   ]
  },
  {
   "cell_type": "markdown",
   "metadata": {},
   "source": [
    "## Initializing Mid Level and stimulating all 8 channels for 10 seconds"
   ]
  },
  {
   "cell_type": "code",
   "execution_count": 45,
   "metadata": {},
   "outputs": [
    {
     "name": "stdout",
     "output_type": "stream",
     "text": [
      "smpt_send_ml_init:  True\n",
      "smpt_send_ml_update:  True\n",
      "All channels ok\n",
      "All channels ok\n",
      "All channels ok\n",
      "All channels ok\n",
      "All channels ok\n",
      "All channels ok\n",
      "All channels ok\n",
      "All channels ok\n",
      "All channels ok\n",
      "All channels ok\n",
      "smpt_send_ml_stop:  True\n"
     ]
    }
   ],
   "source": [
    "# Cleaning up received packages\n",
    "while ( sciencemode.smpt_new_packet_received(device)):\n",
    "    sciencemode.smpt_clear_ack(ack)\n",
    "    sciencemode.smpt_last_ack(device, ack)\n",
    "\n",
    "ml_init.packet_number = sciencemode.smpt_packet_number_generator_next(device)\n",
    "ret = sciencemode.smpt_send_ml_init(device, ml_init)\n",
    "print(\"smpt_send_ml_init: \", ret)\n",
    "time.sleep(1)\n",
    "\n",
    "ml_update.packet_number = sciencemode.smpt_packet_number_generator_next(device)\n",
    "for i in range(8):\n",
    "    ml_update.enable_channel[i] = True\n",
    "    ml_update.channel_config[i].period = 20\n",
    "    ml_update.channel_config[i].number_of_points = 3\n",
    "    ml_update.channel_config[i].points[0].time = 100\n",
    "    ml_update.channel_config[i].points[0].current = 20\n",
    "    ml_update.channel_config[i].points[1].time = 100\n",
    "    ml_update.channel_config[i].points[1].current = 0\n",
    "    ml_update.channel_config[i].points[2].time = 100\n",
    "    ml_update.channel_config[i].points[2].current = -20\n",
    "    \n",
    "ret = sciencemode.smpt_send_ml_update(device, ml_update)\n",
    "print(\"smpt_send_ml_update: \", ret)\n",
    "\n",
    "for i in range(10):\n",
    "    ml_get_current_data.data_selection = sciencemode.Smpt_Ml_Data_Channels\n",
    "    ml_get_current_data.packet_number = sciencemode.smpt_packet_number_generator_next(device)\n",
    "    ret = sciencemode.smpt_send_ml_get_current_data(device, ml_get_current_data)\n",
    "    time.sleep(1)\n",
    "    while ( sciencemode.smpt_new_packet_received(device)):\n",
    "        sciencemode.smpt_clear_ack(ack)\n",
    "        sciencemode.smpt_last_ack(device, ack)\n",
    "        if (ack.command_number != sciencemode.Smpt_Cmd_Ml_Get_Current_Data_Ack):\n",
    "            continue\n",
    "        ret = sciencemode.smpt_get_ml_get_current_data_ack(device, ml_get_current_data_ack)\n",
    "        if (not ret):\n",
    "            print(\"smpt_get_ml_get_current_data_ack: \", ret)\n",
    "        error_on_channel = False\n",
    "        for i in range(8):\n",
    "            if (ml_get_current_data_ack.channel_data.channel_state[i] != sciencemode.Smpt_Ml_Channel_State_Ok):\n",
    "                error_on_channel = True\n",
    "        if error_on_channel:\n",
    "            print(\"Error on channel\")\n",
    "        else:\n",
    "            print(\"All channels ok\")\n",
    "    \n",
    "\n",
    "packet_number = sciencemode.smpt_packet_number_generator_next(device)\n",
    "ret = sciencemode.smpt_send_ml_stop(device, packet_number)\n",
    "print(\"smpt_send_ml_stop: \", ret)"
   ]
  },
  {
   "cell_type": "markdown",
   "metadata": {},
   "source": [
    "## Closing the opened device port"
   ]
  },
  {
   "cell_type": "code",
   "execution_count": 46,
   "metadata": {},
   "outputs": [
    {
     "name": "stdout",
     "output_type": "stream",
     "text": [
      "smpt_close_serial_port:  True\n"
     ]
    }
   ],
   "source": [
    "ret = sciencemode.smpt_close_serial_port(device)\n",
    "print(\"smpt_close_serial_port: \", ret)"
   ]
  },
  {
   "cell_type": "code",
   "execution_count": null,
   "metadata": {},
   "outputs": [],
   "source": []
  }
 ],
 "metadata": {
  "interpreter": {
   "hash": "e4cce46d6be9934fbd27f9ca0432556941ea5bdf741d4f4d64c6cd7f8dfa8fba"
  },
  "kernelspec": {
   "display_name": "Python 3.8.8 ('base')",
   "language": "python",
   "name": "python3"
  },
  "language_info": {
   "codemirror_mode": {
    "name": "ipython",
    "version": 3
   },
   "file_extension": ".py",
   "mimetype": "text/x-python",
   "name": "python",
   "nbconvert_exporter": "python",
   "pygments_lexer": "ipython3",
   "version": "3.8.8"
  },
  "orig_nbformat": 4
 },
 "nbformat": 4,
 "nbformat_minor": 2
}
